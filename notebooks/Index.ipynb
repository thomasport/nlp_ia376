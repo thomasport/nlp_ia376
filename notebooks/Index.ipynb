{
  "nbformat": 4,
  "nbformat_minor": 0,
  "metadata": {
    "colab": {
      "name": "Index.ipynb",
      "provenance": [],
      "collapsed_sections": []
    },
    "kernelspec": {
      "name": "python3",
      "display_name": "Python 3"
    }
  },
  "cells": [
    {
      "cell_type": "markdown",
      "metadata": {
        "id": "wmnFirqo24TB",
        "colab_type": "text"
      },
      "source": [
        "# IA376 Notebooks"
      ]
    },
    {
      "cell_type": "markdown",
      "metadata": {
        "id": "Uop277_swQir",
        "colab_type": "text"
      },
      "source": [
        "01 - [Count Vectorizer](https://colab.research.google.com/github/thomasport/nlp_ia376/blob/master/notebooks/01-CountVectorizer.ipynb)\n",
        "\n",
        "02 - [Sentiment Analysis](https://colab.research.google.com/github/thomasport/nlp_ia376/blob/master/notebooks/02-SentimentAnalysis.ipynb)\n",
        "\n",
        "03 - [Language Model](https://colab.research.google.com/github/thomasport/nlp_ia376/blob/master/notebooks/03-LanguageModel.ipynb)\n",
        "\n",
        "04 - [Bag of Embeddings](https://colab.research.google.com/github/thomasport/nlp_ia376/blob/master/notebooks/04-BagOfEmbeddings.ipynb)\n",
        "\n",
        "05 - [Self Attention](https://colab.research.google.com/github/thomasport/nlp_ia376/blob/master/notebooks/05-Self-Attention.ipynb)\n",
        "\n",
        "06 - [Complete Self Attention](https://colab.research.google.com/github/thomasport/nlp_ia376/blob/master/notebooks/06-Complete_SelfAttention.ipynb)\n",
        "\n",
        "07 - [BERT](https://colab.research.google.com/github/thomasport/nlp_ia376/blob/master/notebooks/07-BERT.ipynb)\n",
        "\n",
        "08 - [T5 - NMT](https://colab.research.google.com/github/thomasport/nlp_ia376/blob/master/notebooks/08-T5_NMT.ipynb)\n",
        "\n",
        "09 - [Nucleus and Topk Decoding](https://colab.research.google.com/github/thomasport/nlp_ia376/blob/master/notebooks/09-Nucleus_Topk.ipynb)\n"
      ]
    }
  ]
}